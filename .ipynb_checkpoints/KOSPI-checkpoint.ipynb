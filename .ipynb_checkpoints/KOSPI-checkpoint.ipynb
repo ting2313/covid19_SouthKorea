{
 "cells": [
  {
   "cell_type": "code",
   "execution_count": 1,
   "metadata": {},
   "outputs": [
    {
     "name": "stderr",
     "output_type": "stream",
     "text": [
      "/home/arielwu/.local/lib/python3.7/site-packages/pandas/compat/__init__.py:117: UserWarning: Could not import the lzma module. Your installed Python is incomplete. Attempting to use lzma compression will result in a RuntimeError.\n",
      "  warnings.warn(msg)\n"
     ]
    }
   ],
   "source": [
    "import time\n",
    "import numpy as np\n",
    "import pandas as pd\n",
    "\n",
    "EXECUTION_START_TIME = time.time()\n",
    "\n",
    "time = pd.read_csv('data/Time.csv')\n",
    "kospi = pd.read_csv('data/KOSPI.csv')"
   ]
  },
  {
   "cell_type": "code",
   "execution_count": 2,
   "metadata": {},
   "outputs": [],
   "source": [
    "# import\n",
    "pd.options.mode.chained_assignment = None      # 解決會噴 warning 的狀況\n",
    "\n",
    "from sklearn.impute import SimpleImputer       # 匯入填補缺失值的工具\n",
    "from sklearn.preprocessing import LabelEncoder # 匯入 Label Encoder\n",
    "from sklearn import preprocessing\n",
    "import matplotlib.pyplot as plt\n",
    "import seaborn as sns\n",
    "import datetime"
   ]
  },
  {
   "cell_type": "code",
   "execution_count": 3,
   "metadata": {},
   "outputs": [
    {
     "name": "stdout",
     "output_type": "stream",
     "text": [
      "count            133\n",
      "unique           133\n",
      "top       2020-04-20\n",
      "freq               1\n",
      "Name: date, dtype: object\n"
     ]
    }
   ],
   "source": [
    "print(time['date'].describe())"
   ]
  },
  {
   "cell_type": "markdown",
   "metadata": {},
   "source": [
    "## 轉換日期資料\n",
    "把日期資料型態轉換成python Timestamp"
   ]
  },
  {
   "cell_type": "code",
   "execution_count": 4,
   "metadata": {},
   "outputs": [],
   "source": [
    "time[\"date\"] = pd.to_datetime(time[\"date\"], format='%Y-%m-%d')\n",
    "kospi[\"Date\"] = pd.to_datetime(kospi[\"Date\"], format='%b %d, %Y')"
   ]
  },
  {
   "cell_type": "code",
   "execution_count": 5,
   "metadata": {},
   "outputs": [
    {
     "name": "stdout",
     "output_type": "stream",
     "text": [
      "2,181.87\n",
      "2020-06-05 00:00:00\n",
      "2,175.17\n",
      "2020-01-02 00:00:00\n"
     ]
    }
   ],
   "source": [
    "print(kospi[\"Price\"][0])\n",
    "print(kospi[\"Date\"][0])\n",
    "\n",
    "kospi = kospi.iloc[::-1]\n",
    "kospi = kospi.reset_index(drop=True)\n",
    "\n",
    "print(kospi[\"Price\"][0])\n",
    "print(kospi[\"Date\"][0])"
   ]
  },
  {
   "cell_type": "markdown",
   "metadata": {},
   "source": [
    "## 轉換數值資料\n",
    "把數值轉換成類型"
   ]
  },
  {
   "cell_type": "code",
   "execution_count": 6,
   "metadata": {},
   "outputs": [],
   "source": [
    "for i in range(0, len(kospi.index)):\n",
    "    kospi['Change %'][i] = 0 if kospi['Change %'][i][0] =='-' else 1"
   ]
  },
  {
   "cell_type": "markdown",
   "metadata": {},
   "source": [
    "## 整理確診資料\n",
    "將累積確診資料換算成每日確診人數"
   ]
  },
  {
   "cell_type": "code",
   "execution_count": 7,
   "metadata": {},
   "outputs": [],
   "source": [
    "time[\"diff confirmed\"] = 0\n",
    "time[\"diff confirmed\"][0] = time[\"confirmed\"][0]\n",
    "pre = time[\"confirmed\"][0]\n",
    "\n",
    "for i in range(1, len(time.index)):\n",
    "    time[\"diff confirmed\"][i] = time[\"confirmed\"][i] - pre\n",
    "    pre = time[\"confirmed\"][i]"
   ]
  },
  {
   "cell_type": "markdown",
   "metadata": {},
   "source": [
    "## 彙整資料\n",
    "把確診和kospi資料合併"
   ]
  },
  {
   "cell_type": "code",
   "execution_count": 8,
   "metadata": {},
   "outputs": [],
   "source": [
    "kospi[\"comfirmed_1\"] = np.nan\n",
    "kospi[\"comfirmed_2\"] = np.nan\n",
    "kospi[\"comfirmed_3\"] = np.nan\n",
    "\n",
    "for i in range(0, len(kospi.index)):\n",
    "    if kospi[\"Date\"][i] < time[\"date\"][0]+datetime.timedelta(days=3):\n",
    "        continue\n",
    "    if kospi[\"Date\"][i]-datetime.timedelta(days=1) > time[\"date\"][132]:\n",
    "        continue\n",
    "    date = kospi[\"Date\"][i]\n",
    "    kospi[\"comfirmed_1\"][i] = time['diff confirmed'][time[\"date\"]==(date-datetime.timedelta(days=1))]\n",
    "    kospi[\"comfirmed_2\"][i] = time['diff confirmed'][time[\"date\"]==(date-datetime.timedelta(days=2))]\n",
    "    kospi[\"comfirmed_3\"][i] = time['diff confirmed'][time[\"date\"]==(date-datetime.timedelta(days=3))]\n",
    "\n",
    "\n",
    "kospi = kospi.dropna()\n",
    "kospi = kospi.reset_index(drop=True)"
   ]
  },
  {
   "cell_type": "markdown",
   "metadata": {},
   "source": [
    "## 選取資料"
   ]
  },
  {
   "cell_type": "code",
   "execution_count": 9,
   "metadata": {},
   "outputs": [],
   "source": [
    "train_x = kospi[[\"comfirmed_1\", \"comfirmed_2\", \"comfirmed_3\"]]\n",
    "train_y = kospi[\"Change %\"]\n",
    "date = kospi[[\"Date\"]]"
   ]
  },
  {
   "cell_type": "code",
   "execution_count": 10,
   "metadata": {},
   "outputs": [
    {
     "name": "stdout",
     "output_type": "stream",
     "text": [
      "<class 'pandas.core.frame.DataFrame'>\n",
      "RangeIndex: 87 entries, 0 to 86\n",
      "Data columns (total 3 columns):\n",
      " #   Column       Non-Null Count  Dtype  \n",
      "---  ------       --------------  -----  \n",
      " 0   comfirmed_1  87 non-null     float64\n",
      " 1   comfirmed_2  87 non-null     float64\n",
      " 2   comfirmed_3  87 non-null     float64\n",
      "dtypes: float64(3)\n",
      "memory usage: 2.2 KB\n"
     ]
    }
   ],
   "source": [
    "train_x.info()"
   ]
  },
  {
   "cell_type": "code",
   "execution_count": 11,
   "metadata": {},
   "outputs": [
    {
     "data": {
      "text/plain": [
       "0     0\n",
       "1     0\n",
       "2     1\n",
       "3     0\n",
       "4     0\n",
       "     ..\n",
       "82    1\n",
       "83    1\n",
       "84    0\n",
       "85    1\n",
       "86    1\n",
       "Name: Change %, Length: 87, dtype: int64"
      ]
     },
     "execution_count": 11,
     "metadata": {},
     "output_type": "execute_result"
    }
   ],
   "source": [
    "train_y = train_y.astype('int')\n",
    "train_y"
   ]
  },
  {
   "cell_type": "markdown",
   "metadata": {},
   "source": [
    "## 模型訓練"
   ]
  },
  {
   "cell_type": "code",
   "execution_count": 12,
   "metadata": {},
   "outputs": [
    {
     "name": "stdout",
     "output_type": "stream",
     "text": [
      "average train accuracy: 0.7356107660455485\n",
      "    min train accuracy: 0.6811594202898551\n",
      "    max train accuracy: 0.8\n",
      "average valid accuracy: 0.5163398692810457\n",
      "    min valid accuracy: 0.4117647058823529\n",
      "    max valid accuracy: 0.6111111111111112\n",
      "accuracy: 0.7126436781609196\n"
     ]
    }
   ],
   "source": [
    "### 模型訓練\n",
    "\n",
    "from sklearn.model_selection import KFold             # 匯入 K 次交叉驗證工具\n",
    "from sklearn.tree import DecisionTreeClassifier       # 匯入決策樹模型\n",
    "from sklearn.metrics import accuracy_score            # 匯入準確度計算工具\n",
    "\n",
    "kf = KFold(n_splits=5,                                # 設定 K 值\n",
    "           random_state=1012,\n",
    "           shuffle=True)\n",
    "kf.get_n_splits(train_x)                              # 給予資料範圍\n",
    "\n",
    "train_acc_list = []                                   # 儲存每次訓練模型的準確度\n",
    "valid_acc_list = []                                   # 儲存每次驗證模型的準確度\n",
    "\n",
    "for train_index, valid_index in kf.split(train_x):    # 每個迴圈都會產生不同部份的資料\n",
    "    train_x_split = train_x.iloc[train_index]         # 產生訓練資料\n",
    "    train_y_split = train_y.iloc[train_index]         # 產生訓練資料標籤\n",
    "    valid_x_split = train_x.iloc[valid_index]         # 產生驗證資料\n",
    "    valid_y_split = train_y.iloc[valid_index]         # 產生驗證資料標籤\n",
    "    model = DecisionTreeClassifier(random_state=1012,\n",
    "                                   criterion='gini',                           \n",
    "                                   max_depth=4,       \n",
    "                                   max_leaf_nodes=2 ** 4)\n",
    "    \n",
    "    model.fit(train_x_split, train_y_split)           # 訓練決策樹模型\n",
    "    \n",
    "    train_pred_y = model.predict(train_x_split)       # 確認模型是否訓練成功\n",
    "    train_acc = accuracy_score(train_y_split,         # 計算訓練資料準確度\n",
    "                               train_pred_y)\n",
    "    valid_pred_y = model.predict(valid_x_split)       # 驗證模型是否訓練成功\n",
    "    valid_acc = accuracy_score(valid_y_split,         # 計算驗證資料準確度\n",
    "                               valid_pred_y)\n",
    "    \n",
    "    train_acc_list.append(train_acc)\n",
    "    valid_acc_list.append(valid_acc)\n",
    "\n",
    "print((\n",
    "    'average train accuracy: {}\\n' +\n",
    "    '    min train accuracy: {}\\n' +\n",
    "    '    max train accuracy: {}\\n' +\n",
    "    'average valid accuracy: {}\\n' +\n",
    "    '    min valid accuracy: {}\\n' +\n",
    "    '    max valid accuracy: {}').format(\n",
    "    np.mean(train_acc_list),                          # 輸出平均訓練準確度\n",
    "    np.min(train_acc_list),                           # 輸出最低訓練準確度\n",
    "    np.max(train_acc_list),                           # 輸出最高訓練準確度\n",
    "    np.mean(valid_acc_list),                          # 輸出平均驗證準確度\n",
    "    np.min(valid_acc_list),                           # 輸出最低驗證準確度\n",
    "    np.max(valid_acc_list)                            # 輸出最高驗證準確度\n",
    "))\n",
    "\n",
    "model = DecisionTreeClassifier(random_state=1012,\n",
    "                                   criterion='gini',                           \n",
    "                                   max_depth=4,       \n",
    "                                   max_leaf_nodes=2 ** 4)\n",
    "model.fit(train_x, train_y)                       # 訓練決策樹模型\n",
    "\n",
    "pred_y = model.predict(train_x)                   # 確認模型是否訓練成功\n",
    "acc = accuracy_score(train_y, pred_y)             # 計算準確度\n",
    "\n",
    "print('accuracy: {}'.format(acc))                 # 輸出準確度"
   ]
  },
  {
   "cell_type": "code",
   "execution_count": 13,
   "metadata": {},
   "outputs": [
    {
     "name": "stdout",
     "output_type": "stream",
     "text": [
      "average train accuracy: 0.7614492753623189\n",
      "    min train accuracy: 0.7246376811594203\n",
      "    max train accuracy: 0.8\n",
      "average valid accuracy: 0.5294117647058824\n",
      "    min valid accuracy: 0.3888888888888889\n",
      "    max valid accuracy: 0.6470588235294118\n",
      "accuracy: 0.7701149425287356\n"
     ]
    }
   ],
   "source": [
    "# 模型訓練 ensemble\n",
    "\n",
    "from sklearn import ensemble\n",
    "\n",
    "kf = KFold(n_splits=5,                                # 設定 K 值\n",
    "           random_state=1012,\n",
    "           shuffle=True)\n",
    "kf.get_n_splits(train_x)                              # 給予資料範圍\n",
    "\n",
    "train_acc_list = []                                   # 儲存每次訓練模型的準確度\n",
    "valid_acc_list = []                                   # 儲存每次驗證模型的準確度\n",
    "\n",
    "for train_index, valid_index in kf.split(train_x):    # 每個迴圈都會產生不同部份的資料\n",
    "    train_x_split = train_x.iloc[train_index]         # 產生訓練資料\n",
    "    train_y_split = train_y.iloc[train_index]         # 產生訓練資料標籤\n",
    "    valid_x_split = train_x.iloc[valid_index]         # 產生驗證資料\n",
    "    valid_y_split = train_y.iloc[valid_index]         # 產生驗證資料標籤\n",
    "    \n",
    "    model = ensemble.AdaBoostClassifier(random_state=1012,n_estimators = 10)\n",
    "    \n",
    "    model.fit(train_x_split, train_y_split)           # 訓練決策樹模型\n",
    "    \n",
    "    train_pred_y = model.predict(train_x_split)       # 確認模型是否訓練成功\n",
    "    train_acc = accuracy_score(train_y_split,         # 計算訓練資料準確度\n",
    "                               train_pred_y)\n",
    "    valid_pred_y = model.predict(valid_x_split)       # 驗證模型是否訓練成功\n",
    "    valid_acc = accuracy_score(valid_y_split,         # 計算驗證資料準確度\n",
    "                               valid_pred_y)\n",
    "    \n",
    "    train_acc_list.append(train_acc)\n",
    "    valid_acc_list.append(valid_acc)\n",
    "\n",
    "print((\n",
    "    'average train accuracy: {}\\n' +\n",
    "    '    min train accuracy: {}\\n' +\n",
    "    '    max train accuracy: {}\\n' +\n",
    "    'average valid accuracy: {}\\n' +\n",
    "    '    min valid accuracy: {}\\n' +\n",
    "    '    max valid accuracy: {}').format(\n",
    "    np.mean(train_acc_list),                          # 輸出平均訓練準確度\n",
    "    np.min(train_acc_list),                           # 輸出最低訓練準確度\n",
    "    np.max(train_acc_list),                           # 輸出最高訓練準確度\n",
    "    np.mean(valid_acc_list),                          # 輸出平均驗證準確度\n",
    "    np.min(valid_acc_list),                           # 輸出最低驗證準確度\n",
    "    np.max(valid_acc_list)                            # 輸出最高驗證準確度\n",
    "))\n",
    "model = ensemble.AdaBoostClassifier(random_state=1012,n_estimators = 10)\n",
    "model.fit(train_x, train_y)                       \n",
    "\n",
    "pred_y = model.predict(train_x)                   # 確認模型是否訓練成功\n",
    "acc = accuracy_score(train_y, pred_y)             # 計算準確度\n",
    "\n",
    "print('accuracy: {}'.format(acc))                 # 輸出準確度"
   ]
  },
  {
   "cell_type": "code",
   "execution_count": 14,
   "metadata": {},
   "outputs": [
    {
     "name": "stdout",
     "output_type": "stream",
     "text": [
      "average train accuracy: 0.6380538302277433\n",
      "    min train accuracy: 0.6\n",
      "    max train accuracy: 0.6666666666666666\n",
      "average valid accuracy: 0.4594771241830065\n",
      "    min valid accuracy: 0.4117647058823529\n",
      "    max valid accuracy: 0.5294117647058824\n",
      "accuracy: 0.6091954022988506\n"
     ]
    }
   ],
   "source": [
    "# 模型訓練 SVC\n",
    "\n",
    "from sklearn.svm import SVC                       # 匯入支援向量機模型\n",
    "\n",
    "kf = KFold(n_splits=5,                                # 設定 K 值\n",
    "           random_state=1012,\n",
    "           shuffle=True)\n",
    "kf.get_n_splits(train_x)                              # 給予資料範圍\n",
    "\n",
    "train_acc_list = []                                   # 儲存每次訓練模型的準確度\n",
    "valid_acc_list = []                                   # 儲存每次驗證模型的準確度\n",
    "c=20\n",
    "\n",
    "for train_index, valid_index in kf.split(train_x):    # 每個迴圈都會產生不同部份的資料\n",
    "    train_x_split = train_x.iloc[train_index]         # 產生訓練資料\n",
    "    train_y_split = train_y.iloc[train_index]         # 產生訓練資料標籤\n",
    "    valid_x_split = train_x.iloc[valid_index]         # 產生驗證資料\n",
    "    valid_y_split = train_y.iloc[valid_index]         # 產生驗證資料標籤\n",
    "    \n",
    "    model = SVC(random_state=1012,C=c)\n",
    "    \n",
    "    model.fit(train_x_split, train_y_split)           # 訓練決策樹模型\n",
    "    \n",
    "    train_pred_y = model.predict(train_x_split)       # 確認模型是否訓練成功\n",
    "    train_acc = accuracy_score(train_y_split,         # 計算訓練資料準確度\n",
    "                               train_pred_y)\n",
    "    valid_pred_y = model.predict(valid_x_split)       # 驗證模型是否訓練成功\n",
    "    valid_acc = accuracy_score(valid_y_split,         # 計算驗證資料準確度\n",
    "                               valid_pred_y)\n",
    "    \n",
    "    train_acc_list.append(train_acc)\n",
    "    valid_acc_list.append(valid_acc)\n",
    "\n",
    "print((\n",
    "    'average train accuracy: {}\\n' +\n",
    "    '    min train accuracy: {}\\n' +\n",
    "    '    max train accuracy: {}\\n' +\n",
    "    'average valid accuracy: {}\\n' +\n",
    "    '    min valid accuracy: {}\\n' +\n",
    "    '    max valid accuracy: {}').format(\n",
    "    np.mean(train_acc_list),                          # 輸出平均訓練準確度\n",
    "    np.min(train_acc_list),                           # 輸出最低訓練準確度\n",
    "    np.max(train_acc_list),                           # 輸出最高訓練準確度\n",
    "    np.mean(valid_acc_list),                          # 輸出平均驗證準確度\n",
    "    np.min(valid_acc_list),                           # 輸出最低驗證準確度\n",
    "    np.max(valid_acc_list)                            # 輸出最高驗證準確度\n",
    "))\n",
    "model = SVC(random_state=1012,C=c)\n",
    "model.fit(train_x, train_y)                       \n",
    "\n",
    "pred_y = model.predict(train_x)                   # 確認模型是否訓練成功\n",
    "acc = accuracy_score(train_y, pred_y)             # 計算準確度\n",
    "\n",
    "print('accuracy: {}'.format(acc))                 # 輸出準確度"
   ]
  },
  {
   "cell_type": "code",
   "execution_count": 15,
   "metadata": {},
   "outputs": [
    {
     "name": "stdout",
     "output_type": "stream",
     "text": [
      "average train accuracy: 0.58351966873706\n",
      "    min train accuracy: 0.5285714285714286\n",
      "    max train accuracy: 0.6376811594202898\n",
      "average valid accuracy: 0.4470588235294118\n",
      "    min valid accuracy: 0.35294117647058826\n",
      "    max valid accuracy: 0.5\n",
      "accuracy: 0.5747126436781609\n"
     ]
    }
   ],
   "source": [
    "# Logistic\n",
    "\n",
    "from sklearn.linear_model import LogisticRegression\n",
    "\n",
    "kf = KFold(n_splits=5,                                # 設定 K 值\n",
    "           random_state=1012,\n",
    "           shuffle=True)\n",
    "kf.get_n_splits(train_x)                              # 給予資料範圍\n",
    "\n",
    "train_acc_list = []                                   # 儲存每次訓練模型的準確度\n",
    "valid_acc_list = []                                   # 儲存每次驗證模型的準確度\n",
    "\n",
    "for train_index, valid_index in kf.split(train_x):    # 每個迴圈都會產生不同部份的資料\n",
    "    train_x_split = train_x.iloc[train_index]         # 產生訓練資料\n",
    "    train_y_split = train_y.iloc[train_index]         # 產生訓練資料標籤\n",
    "    valid_x_split = train_x.iloc[valid_index]         # 產生驗證資料\n",
    "    valid_y_split = train_y.iloc[valid_index]         # 產生驗證資料標籤\n",
    "    \n",
    "    model = LogisticRegression(random_state=1012)\n",
    "    \n",
    "    model.fit(train_x_split, train_y_split)           # 訓練決策樹模型\n",
    "    \n",
    "    train_pred_y = model.predict(train_x_split)       # 確認模型是否訓練成功\n",
    "    train_acc = accuracy_score(train_y_split,         # 計算訓練資料準確度\n",
    "                               train_pred_y)\n",
    "    valid_pred_y = model.predict(valid_x_split)       # 驗證模型是否訓練成功\n",
    "    valid_acc = accuracy_score(valid_y_split,         # 計算驗證資料準確度\n",
    "                               valid_pred_y)\n",
    "    \n",
    "    train_acc_list.append(train_acc)\n",
    "    valid_acc_list.append(valid_acc)\n",
    "\n",
    "print((\n",
    "    'average train accuracy: {}\\n' +\n",
    "    '    min train accuracy: {}\\n' +\n",
    "    '    max train accuracy: {}\\n' +\n",
    "    'average valid accuracy: {}\\n' +\n",
    "    '    min valid accuracy: {}\\n' +\n",
    "    '    max valid accuracy: {}').format(\n",
    "    np.mean(train_acc_list),                          # 輸出平均訓練準確度\n",
    "    np.min(train_acc_list),                           # 輸出最低訓練準確度\n",
    "    np.max(train_acc_list),                           # 輸出最高訓練準確度\n",
    "    np.mean(valid_acc_list),                          # 輸出平均驗證準確度\n",
    "    np.min(valid_acc_list),                           # 輸出最低驗證準確度\n",
    "    np.max(valid_acc_list)                            # 輸出最高驗證準確度\n",
    "))\n",
    "model = LogisticRegression(random_state=1012)\n",
    "model.fit(train_x, train_y)                       \n",
    "\n",
    "pred_y = model.predict(train_x)                   # 確認模型是否訓練成功\n",
    "acc = accuracy_score(train_y, pred_y)             # 計算準確度\n",
    "\n",
    "print('accuracy: {}'.format(acc))                 # 輸出準確度"
   ]
  },
  {
   "cell_type": "code",
   "execution_count": null,
   "metadata": {},
   "outputs": [],
   "source": []
  }
 ],
 "metadata": {
  "kernelspec": {
   "display_name": "Python 3",
   "language": "python",
   "name": "python3"
  },
  "language_info": {
   "codemirror_mode": {
    "name": "ipython",
    "version": 3
   },
   "file_extension": ".py",
   "mimetype": "text/x-python",
   "name": "python",
   "nbconvert_exporter": "python",
   "pygments_lexer": "ipython3",
   "version": "3.7.3"
  }
 },
 "nbformat": 4,
 "nbformat_minor": 4
}
