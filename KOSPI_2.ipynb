{
 "cells": [
  {
   "cell_type": "code",
   "execution_count": 1,
   "metadata": {},
   "outputs": [
    {
     "name": "stderr",
     "output_type": "stream",
     "text": [
      "/home/arielwu/.local/lib/python3.7/site-packages/pandas/compat/__init__.py:117: UserWarning: Could not import the lzma module. Your installed Python is incomplete. Attempting to use lzma compression will result in a RuntimeError.\n",
      "  warnings.warn(msg)\n"
     ]
    }
   ],
   "source": [
    "import time\n",
    "import numpy as np\n",
    "import pandas as pd\n",
    "\n",
    "EXECUTION_START_TIME = time.time()\n",
    "\n",
    "time = pd.read_csv('data/Time.csv')\n",
    "kospi = pd.read_csv('data/KOSPI.csv')"
   ]
  },
  {
   "cell_type": "code",
   "execution_count": 2,
   "metadata": {},
   "outputs": [],
   "source": [
    "# import\n",
    "pd.options.mode.chained_assignment = None      # 解決會噴 warning 的狀況\n",
    "\n",
    "from sklearn.impute import SimpleImputer       # 匯入填補缺失值的工具\n",
    "from sklearn.preprocessing import LabelEncoder # 匯入 Label Encoder\n",
    "from sklearn import preprocessing\n",
    "import matplotlib.pyplot as plt\n",
    "import seaborn as sns\n",
    "import datetime"
   ]
  },
  {
   "cell_type": "code",
   "execution_count": 3,
   "metadata": {},
   "outputs": [
    {
     "name": "stdout",
     "output_type": "stream",
     "text": [
      "count            133\n",
      "unique           133\n",
      "top       2020-03-19\n",
      "freq               1\n",
      "Name: date, dtype: object\n"
     ]
    }
   ],
   "source": [
    "print(time['date'].describe())"
   ]
  },
  {
   "cell_type": "markdown",
   "metadata": {},
   "source": [
    "## 轉換日期資料\n",
    "把日期資料型態轉換成python Timestamp"
   ]
  },
  {
   "cell_type": "code",
   "execution_count": 4,
   "metadata": {},
   "outputs": [],
   "source": [
    "time[\"date\"] = pd.to_datetime(time[\"date\"], format='%Y-%m-%d')\n",
    "kospi[\"Date\"] = pd.to_datetime(kospi[\"Date\"], format='%b %d, %Y')"
   ]
  },
  {
   "cell_type": "code",
   "execution_count": 5,
   "metadata": {},
   "outputs": [
    {
     "name": "stdout",
     "output_type": "stream",
     "text": [
      "2,181.87\n",
      "2020-06-05 00:00:00\n",
      "2,175.17\n",
      "2020-01-02 00:00:00\n"
     ]
    }
   ],
   "source": [
    "print(kospi[\"Price\"][0])\n",
    "print(kospi[\"Date\"][0])\n",
    "\n",
    "kospi = kospi.iloc[::-1]\n",
    "kospi = kospi.reset_index(drop=True)\n",
    "\n",
    "print(kospi[\"Price\"][0])\n",
    "print(kospi[\"Date\"][0])"
   ]
  },
  {
   "cell_type": "markdown",
   "metadata": {},
   "source": [
    "## 轉換數值資料\n",
    "把數值轉換成類型"
   ]
  },
  {
   "cell_type": "code",
   "execution_count": 6,
   "metadata": {},
   "outputs": [],
   "source": [
    "for i in range(0, len(kospi.index)):\n",
    "    kospi['Change %'][i] = 0 if kospi['Change %'][i][0] =='-' else 1"
   ]
  },
  {
   "cell_type": "markdown",
   "metadata": {},
   "source": [
    "## 整理確診資料\n",
    "將累積確診資料換算成每日確診人數"
   ]
  },
  {
   "cell_type": "code",
   "execution_count": 7,
   "metadata": {},
   "outputs": [],
   "source": [
    "time[\"diff confirmed\"] = 0\n",
    "time[\"diff confirmed\"][0] = time[\"confirmed\"][0]\n",
    "pre = time[\"confirmed\"][0]\n",
    "\n",
    "for i in range(1, len(time.index)):\n",
    "    time[\"diff confirmed\"][i] = time[\"confirmed\"][i] - pre\n",
    "    pre = time[\"confirmed\"][i]"
   ]
  },
  {
   "cell_type": "markdown",
   "metadata": {},
   "source": [
    "## 彙整資料\n",
    "把確診和kospi資料合併"
   ]
  },
  {
   "cell_type": "code",
   "execution_count": 8,
   "metadata": {},
   "outputs": [],
   "source": [
    "kospi[\"comfirmed_1\"] = np.nan\n",
    "kospi[\"comfirmed_2\"] = np.nan\n",
    "kospi[\"comfirmed_3\"] = np.nan\n",
    "kospi[\"groth_1\"] = np.nan\n",
    "kospi[\"groth_2\"] = np.nan\n",
    "kospi[\"groth_3\"] = np.nan\n",
    "\n",
    "for i in range(0, len(kospi.index)):\n",
    "    if kospi[\"Date\"][i] < time[\"date\"][0]+datetime.timedelta(days=3):\n",
    "        continue\n",
    "    if kospi[\"Date\"][i]-datetime.timedelta(days=1) > time[\"date\"][len(time.index)-1]:\n",
    "        continue\n",
    "    if i-3<0:\n",
    "        continue\n",
    "    date = kospi[\"Date\"][i]\n",
    "    kospi[\"comfirmed_1\"][i] = time['diff confirmed'][time[\"date\"]==(date-datetime.timedelta(days=1))]\n",
    "    kospi[\"comfirmed_2\"][i] = time['diff confirmed'][time[\"date\"]==(date-datetime.timedelta(days=2))]\n",
    "    kospi[\"comfirmed_3\"][i] = time['diff confirmed'][time[\"date\"]==(date-datetime.timedelta(days=3))]\n",
    "    kospi[\"groth_1\"][i] = kospi['Change %'][i-1]\n",
    "    kospi[\"groth_2\"][i] = kospi['Change %'][i-2]\n",
    "    kospi[\"groth_3\"][i] = kospi['Change %'][i-3]\n",
    "\n",
    "\n",
    "kospi = kospi.dropna()\n",
    "kospi = kospi.reset_index(drop=True)"
   ]
  },
  {
   "cell_type": "markdown",
   "metadata": {},
   "source": [
    "## 選取資料"
   ]
  },
  {
   "cell_type": "code",
   "execution_count": 9,
   "metadata": {},
   "outputs": [],
   "source": [
    "train_x = kospi[[\"groth_1\", \"groth_2\", \"groth_3\"]]\n",
    "train_y = kospi[\"Change %\"]\n",
    "date = kospi[[\"Date\"]]"
   ]
  },
  {
   "cell_type": "code",
   "execution_count": 10,
   "metadata": {},
   "outputs": [
    {
     "name": "stdout",
     "output_type": "stream",
     "text": [
      "         groth_1    groth_2    groth_3\n",
      "count  87.000000  87.000000  87.000000\n",
      "mean    0.517241   0.505747   0.517241\n",
      "std     0.502599   0.502865   0.502599\n",
      "min     0.000000   0.000000   0.000000\n",
      "25%     0.000000   0.000000   0.000000\n",
      "50%     1.000000   1.000000   1.000000\n",
      "75%     1.000000   1.000000   1.000000\n",
      "max     1.000000   1.000000   1.000000\n"
     ]
    }
   ],
   "source": [
    "print(train_x.describe())"
   ]
  },
  {
   "cell_type": "code",
   "execution_count": 11,
   "metadata": {},
   "outputs": [
    {
     "data": {
      "text/plain": [
       "0     0\n",
       "1     0\n",
       "2     1\n",
       "3     0\n",
       "4     0\n",
       "     ..\n",
       "82    1\n",
       "83    1\n",
       "84    0\n",
       "85    1\n",
       "86    1\n",
       "Name: Change %, Length: 87, dtype: int64"
      ]
     },
     "execution_count": 11,
     "metadata": {},
     "output_type": "execute_result"
    }
   ],
   "source": [
    "train_y = train_y.astype('int')\n",
    "train_y"
   ]
  },
  {
   "cell_type": "markdown",
   "metadata": {},
   "source": [
    "## 只有股票資料 vs 股票資料加卻診人數\n",
    "### 只有股票資料"
   ]
  },
  {
   "cell_type": "code",
   "execution_count": 12,
   "metadata": {},
   "outputs": [
    {
     "name": "stdout",
     "output_type": "stream",
     "text": [
      "average train accuracy: 0.6091925465838509\n",
      "    min train accuracy: 0.5714285714285714\n",
      "    max train accuracy: 0.6428571428571429\n",
      "average valid accuracy: 0.4816993464052287\n",
      "    min valid accuracy: 0.4117647058823529\n",
      "    max valid accuracy: 0.5555555555555556\n",
      "accuracy: 0.5977011494252874\n"
     ]
    }
   ],
   "source": [
    "## 股票資料\n",
    "### 模型訓練\n",
    "\n",
    "from sklearn.model_selection import KFold             # 匯入 K 次交叉驗證工具\n",
    "from sklearn.tree import DecisionTreeClassifier       # 匯入決策樹模型\n",
    "from sklearn.metrics import accuracy_score            # 匯入準確度計算工具\n",
    "\n",
    "kf = KFold(n_splits=5,                                # 設定 K 值\n",
    "           random_state=1012,\n",
    "           shuffle=True)\n",
    "kf.get_n_splits(train_x)                              # 給予資料範圍\n",
    "\n",
    "train_acc_list = []                                   # 儲存每次訓練模型的準確度\n",
    "valid_acc_list = []                                   # 儲存每次驗證模型的準確度\n",
    "\n",
    "for train_index, valid_index in kf.split(train_x):    # 每個迴圈都會產生不同部份的資料\n",
    "    train_x_split = train_x.iloc[train_index]         # 產生訓練資料\n",
    "    train_y_split = train_y.iloc[train_index]         # 產生訓練資料標籤\n",
    "    valid_x_split = train_x.iloc[valid_index]         # 產生驗證資料\n",
    "    valid_y_split = train_y.iloc[valid_index]         # 產生驗證資料標籤\n",
    "    model = DecisionTreeClassifier(random_state=1012,\n",
    "                                   criterion='gini',                           \n",
    "                                   max_depth=3,\n",
    "                                   max_leaf_nodes=2 ** 5)\n",
    "    \n",
    "    model.fit(train_x_split, train_y_split)           # 訓練決策樹模型\n",
    "    \n",
    "    train_pred_y = model.predict(train_x_split)       # 確認模型是否訓練成功\n",
    "    train_acc = accuracy_score(train_y_split,         # 計算訓練資料準確度\n",
    "                               train_pred_y)\n",
    "    valid_pred_y = model.predict(valid_x_split)       # 驗證模型是否訓練成功\n",
    "    valid_acc = accuracy_score(valid_y_split,         # 計算驗證資料準確度\n",
    "                               valid_pred_y)\n",
    "    \n",
    "    train_acc_list.append(train_acc)\n",
    "    valid_acc_list.append(valid_acc)\n",
    "\n",
    "print((\n",
    "    'average train accuracy: {}\\n' +\n",
    "    '    min train accuracy: {}\\n' +\n",
    "    '    max train accuracy: {}\\n' +\n",
    "    'average valid accuracy: {}\\n' +\n",
    "    '    min valid accuracy: {}\\n' +\n",
    "    '    max valid accuracy: {}').format(\n",
    "    np.mean(train_acc_list),                          # 輸出平均訓練準確度\n",
    "    np.min(train_acc_list),                           # 輸出最低訓練準確度\n",
    "    np.max(train_acc_list),                           # 輸出最高訓練準確度\n",
    "    np.mean(valid_acc_list),                          # 輸出平均驗證準確度\n",
    "    np.min(valid_acc_list),                           # 輸出最低驗證準確度\n",
    "    np.max(valid_acc_list)                            # 輸出最高驗證準確度\n",
    "))\n",
    "\n",
    "model = DecisionTreeClassifier(random_state=1012,\n",
    "                                   criterion='gini',                           \n",
    "                                   max_depth=3,\n",
    "                                   max_leaf_nodes=2 ** 5)\n",
    "model.fit(train_x, train_y)                       # 訓練決策樹模型\n",
    "\n",
    "pred_y = model.predict(train_x)                   # 確認模型是否訓練成功\n",
    "acc = accuracy_score(train_y, pred_y)             # 計算準確度\n",
    "\n",
    "print('accuracy: {}'.format(acc))                 # 輸出準確度"
   ]
  },
  {
   "cell_type": "code",
   "execution_count": 13,
   "metadata": {},
   "outputs": [
    {
     "name": "stdout",
     "output_type": "stream",
     "text": [
      "average train accuracy: 0.5603726708074535\n",
      "    min train accuracy: 0.5285714285714286\n",
      "    max train accuracy: 0.5857142857142857\n",
      "average valid accuracy: 0.4503267973856209\n",
      "    min valid accuracy: 0.3333333333333333\n",
      "    max valid accuracy: 0.6470588235294118\n",
      "accuracy: 0.5287356321839081\n"
     ]
    }
   ],
   "source": [
    "# 模型訓練 ensemble\n",
    "\n",
    "from sklearn import ensemble\n",
    "\n",
    "kf = KFold(n_splits=5,                                # 設定 K 值\n",
    "           random_state=1012,\n",
    "           shuffle=True)\n",
    "kf.get_n_splits(train_x)                              # 給予資料範圍\n",
    "\n",
    "train_acc_list = []                                   # 儲存每次訓練模型的準確度\n",
    "valid_acc_list = []                                   # 儲存每次驗證模型的準確度\n",
    "\n",
    "for train_index, valid_index in kf.split(train_x):    # 每個迴圈都會產生不同部份的資料\n",
    "    train_x_split = train_x.iloc[train_index]         # 產生訓練資料\n",
    "    train_y_split = train_y.iloc[train_index]         # 產生訓練資料標籤\n",
    "    valid_x_split = train_x.iloc[valid_index]         # 產生驗證資料\n",
    "    valid_y_split = train_y.iloc[valid_index]         # 產生驗證資料標籤\n",
    "    \n",
    "    model = ensemble.AdaBoostClassifier(random_state=1012,n_estimators = 10)\n",
    "    \n",
    "    model.fit(train_x_split, train_y_split)           # 訓練決策樹模型\n",
    "    \n",
    "    train_pred_y = model.predict(train_x_split)       # 確認模型是否訓練成功\n",
    "    train_acc = accuracy_score(train_y_split,         # 計算訓練資料準確度\n",
    "                               train_pred_y)\n",
    "    valid_pred_y = model.predict(valid_x_split)       # 驗證模型是否訓練成功\n",
    "    valid_acc = accuracy_score(valid_y_split,         # 計算驗證資料準確度\n",
    "                               valid_pred_y)\n",
    "    \n",
    "    train_acc_list.append(train_acc)\n",
    "    valid_acc_list.append(valid_acc)\n",
    "\n",
    "print((\n",
    "    'average train accuracy: {}\\n' +\n",
    "    '    min train accuracy: {}\\n' +\n",
    "    '    max train accuracy: {}\\n' +\n",
    "    'average valid accuracy: {}\\n' +\n",
    "    '    min valid accuracy: {}\\n' +\n",
    "    '    max valid accuracy: {}').format(\n",
    "    np.mean(train_acc_list),                          # 輸出平均訓練準確度\n",
    "    np.min(train_acc_list),                           # 輸出最低訓練準確度\n",
    "    np.max(train_acc_list),                           # 輸出最高訓練準確度\n",
    "    np.mean(valid_acc_list),                          # 輸出平均驗證準確度\n",
    "    np.min(valid_acc_list),                           # 輸出最低驗證準確度\n",
    "    np.max(valid_acc_list)                            # 輸出最高驗證準確度\n",
    "))\n",
    "model = ensemble.AdaBoostClassifier(random_state=1012,n_estimators = 10)\n",
    "model.fit(train_x, train_y)                       \n",
    "\n",
    "pred_y = model.predict(train_x)                   # 確認模型是否訓練成功\n",
    "acc = accuracy_score(train_y, pred_y)             # 計算準確度\n",
    "\n",
    "print('accuracy: {}'.format(acc))                 # 輸出準確度"
   ]
  },
  {
   "cell_type": "markdown",
   "metadata": {},
   "source": [
    "### 股票資料加卻診人數"
   ]
  },
  {
   "cell_type": "code",
   "execution_count": 14,
   "metadata": {},
   "outputs": [
    {
     "data": {
      "text/html": [
       "<div>\n",
       "<style scoped>\n",
       "    .dataframe tbody tr th:only-of-type {\n",
       "        vertical-align: middle;\n",
       "    }\n",
       "\n",
       "    .dataframe tbody tr th {\n",
       "        vertical-align: top;\n",
       "    }\n",
       "\n",
       "    .dataframe thead th {\n",
       "        text-align: right;\n",
       "    }\n",
       "</style>\n",
       "<table border=\"1\" class=\"dataframe\">\n",
       "  <thead>\n",
       "    <tr style=\"text-align: right;\">\n",
       "      <th></th>\n",
       "      <th>comfirmed_1</th>\n",
       "      <th>comfirmed_2</th>\n",
       "      <th>comfirmed_3</th>\n",
       "      <th>groth_1</th>\n",
       "      <th>groth_2</th>\n",
       "      <th>groth_3</th>\n",
       "    </tr>\n",
       "  </thead>\n",
       "  <tbody>\n",
       "    <tr>\n",
       "      <th>0</th>\n",
       "      <td>0.0</td>\n",
       "      <td>0.0</td>\n",
       "      <td>1.0</td>\n",
       "      <td>1.0</td>\n",
       "      <td>0.0</td>\n",
       "      <td>1.0</td>\n",
       "    </tr>\n",
       "    <tr>\n",
       "      <th>1</th>\n",
       "      <td>1.0</td>\n",
       "      <td>1.0</td>\n",
       "      <td>0.0</td>\n",
       "      <td>0.0</td>\n",
       "      <td>1.0</td>\n",
       "      <td>0.0</td>\n",
       "    </tr>\n",
       "    <tr>\n",
       "      <th>2</th>\n",
       "      <td>0.0</td>\n",
       "      <td>1.0</td>\n",
       "      <td>1.0</td>\n",
       "      <td>0.0</td>\n",
       "      <td>0.0</td>\n",
       "      <td>1.0</td>\n",
       "    </tr>\n",
       "    <tr>\n",
       "      <th>3</th>\n",
       "      <td>0.0</td>\n",
       "      <td>0.0</td>\n",
       "      <td>1.0</td>\n",
       "      <td>1.0</td>\n",
       "      <td>0.0</td>\n",
       "      <td>0.0</td>\n",
       "    </tr>\n",
       "    <tr>\n",
       "      <th>4</th>\n",
       "      <td>2.0</td>\n",
       "      <td>0.0</td>\n",
       "      <td>0.0</td>\n",
       "      <td>0.0</td>\n",
       "      <td>1.0</td>\n",
       "      <td>0.0</td>\n",
       "    </tr>\n",
       "    <tr>\n",
       "      <th>...</th>\n",
       "      <td>...</td>\n",
       "      <td>...</td>\n",
       "      <td>...</td>\n",
       "      <td>...</td>\n",
       "      <td>...</td>\n",
       "      <td>...</td>\n",
       "    </tr>\n",
       "    <tr>\n",
       "      <th>82</th>\n",
       "      <td>16.0</td>\n",
       "      <td>25.0</td>\n",
       "      <td>23.0</td>\n",
       "      <td>1.0</td>\n",
       "      <td>0.0</td>\n",
       "      <td>1.0</td>\n",
       "    </tr>\n",
       "    <tr>\n",
       "      <th>83</th>\n",
       "      <td>19.0</td>\n",
       "      <td>16.0</td>\n",
       "      <td>25.0</td>\n",
       "      <td>1.0</td>\n",
       "      <td>1.0</td>\n",
       "      <td>0.0</td>\n",
       "    </tr>\n",
       "    <tr>\n",
       "      <th>84</th>\n",
       "      <td>40.0</td>\n",
       "      <td>19.0</td>\n",
       "      <td>16.0</td>\n",
       "      <td>1.0</td>\n",
       "      <td>1.0</td>\n",
       "      <td>1.0</td>\n",
       "    </tr>\n",
       "    <tr>\n",
       "      <th>85</th>\n",
       "      <td>79.0</td>\n",
       "      <td>40.0</td>\n",
       "      <td>19.0</td>\n",
       "      <td>0.0</td>\n",
       "      <td>1.0</td>\n",
       "      <td>1.0</td>\n",
       "    </tr>\n",
       "    <tr>\n",
       "      <th>86</th>\n",
       "      <td>27.0</td>\n",
       "      <td>39.0</td>\n",
       "      <td>58.0</td>\n",
       "      <td>1.0</td>\n",
       "      <td>0.0</td>\n",
       "      <td>1.0</td>\n",
       "    </tr>\n",
       "  </tbody>\n",
       "</table>\n",
       "<p>87 rows × 6 columns</p>\n",
       "</div>"
      ],
      "text/plain": [
       "    comfirmed_1  comfirmed_2  comfirmed_3  groth_1  groth_2  groth_3\n",
       "0           0.0          0.0          1.0      1.0      0.0      1.0\n",
       "1           1.0          1.0          0.0      0.0      1.0      0.0\n",
       "2           0.0          1.0          1.0      0.0      0.0      1.0\n",
       "3           0.0          0.0          1.0      1.0      0.0      0.0\n",
       "4           2.0          0.0          0.0      0.0      1.0      0.0\n",
       "..          ...          ...          ...      ...      ...      ...\n",
       "82         16.0         25.0         23.0      1.0      0.0      1.0\n",
       "83         19.0         16.0         25.0      1.0      1.0      0.0\n",
       "84         40.0         19.0         16.0      1.0      1.0      1.0\n",
       "85         79.0         40.0         19.0      0.0      1.0      1.0\n",
       "86         27.0         39.0         58.0      1.0      0.0      1.0\n",
       "\n",
       "[87 rows x 6 columns]"
      ]
     },
     "execution_count": 14,
     "metadata": {},
     "output_type": "execute_result"
    }
   ],
   "source": [
    "train_x = kospi[[\"comfirmed_1\", \"comfirmed_2\", \"comfirmed_3\",\"groth_1\", \"groth_2\", \"groth_3\"]]\n",
    "train_x"
   ]
  },
  {
   "cell_type": "code",
   "execution_count": 15,
   "metadata": {},
   "outputs": [
    {
     "data": {
      "text/plain": [
       "0     0\n",
       "1     0\n",
       "2     1\n",
       "3     0\n",
       "4     0\n",
       "     ..\n",
       "82    1\n",
       "83    1\n",
       "84    0\n",
       "85    1\n",
       "86    1\n",
       "Name: Change %, Length: 87, dtype: int64"
      ]
     },
     "execution_count": 15,
     "metadata": {},
     "output_type": "execute_result"
    }
   ],
   "source": [
    "train_y"
   ]
  },
  {
   "cell_type": "code",
   "execution_count": 16,
   "metadata": {},
   "outputs": [
    {
     "name": "stdout",
     "output_type": "stream",
     "text": [
      "average train accuracy: 0.6868322981366459\n",
      "    min train accuracy: 0.6571428571428571\n",
      "    max train accuracy: 0.7246376811594203\n",
      "average valid accuracy: 0.5045751633986928\n",
      "    min valid accuracy: 0.4117647058823529\n",
      "    max valid accuracy: 0.6111111111111112\n",
      "accuracy: 0.6781609195402298\n"
     ]
    }
   ],
   "source": [
    "### 模型訓練\n",
    "\n",
    "from sklearn.model_selection import KFold             # 匯入 K 次交叉驗證工具\n",
    "from sklearn.tree import DecisionTreeClassifier       # 匯入決策樹模型\n",
    "from sklearn.metrics import accuracy_score            # 匯入準確度計算工具\n",
    "\n",
    "kf = KFold(n_splits=5,                                # 設定 K 值\n",
    "           random_state=1012,\n",
    "           shuffle=True)\n",
    "kf.get_n_splits(train_x)                              # 給予資料範圍\n",
    "\n",
    "train_acc_list = []                                   # 儲存每次訓練模型的準確度\n",
    "valid_acc_list = []                                   # 儲存每次驗證模型的準確度\n",
    "\n",
    "for train_index, valid_index in kf.split(train_x):    # 每個迴圈都會產生不同部份的資料\n",
    "    train_x_split = train_x.iloc[train_index]         # 產生訓練資料\n",
    "    train_y_split = train_y.iloc[train_index]         # 產生訓練資料標籤\n",
    "    valid_x_split = train_x.iloc[valid_index]         # 產生驗證資料\n",
    "    valid_y_split = train_y.iloc[valid_index]         # 產生驗證資料標籤\n",
    "    model = DecisionTreeClassifier(random_state=1012,\n",
    "                                   criterion='gini',                           \n",
    "                                   max_depth=3,\n",
    "                                   max_leaf_nodes=2 ** 5)\n",
    "    \n",
    "    model.fit(train_x_split, train_y_split)           # 訓練決策樹模型\n",
    "    \n",
    "    train_pred_y = model.predict(train_x_split)       # 確認模型是否訓練成功\n",
    "    train_acc = accuracy_score(train_y_split,         # 計算訓練資料準確度\n",
    "                               train_pred_y)\n",
    "    valid_pred_y = model.predict(valid_x_split)       # 驗證模型是否訓練成功\n",
    "    valid_acc = accuracy_score(valid_y_split,         # 計算驗證資料準確度\n",
    "                               valid_pred_y)\n",
    "    \n",
    "    train_acc_list.append(train_acc)\n",
    "    valid_acc_list.append(valid_acc)\n",
    "\n",
    "print((\n",
    "    'average train accuracy: {}\\n' +\n",
    "    '    min train accuracy: {}\\n' +\n",
    "    '    max train accuracy: {}\\n' +\n",
    "    'average valid accuracy: {}\\n' +\n",
    "    '    min valid accuracy: {}\\n' +\n",
    "    '    max valid accuracy: {}').format(\n",
    "    np.mean(train_acc_list),                          # 輸出平均訓練準確度\n",
    "    np.min(train_acc_list),                           # 輸出最低訓練準確度\n",
    "    np.max(train_acc_list),                           # 輸出最高訓練準確度\n",
    "    np.mean(valid_acc_list),                          # 輸出平均驗證準確度\n",
    "    np.min(valid_acc_list),                           # 輸出最低驗證準確度\n",
    "    np.max(valid_acc_list)                            # 輸出最高驗證準確度\n",
    "))\n",
    "\n",
    "model = DecisionTreeClassifier(random_state=1012,\n",
    "                                   criterion='gini',                           \n",
    "                                   max_depth=3,\n",
    "                                   max_leaf_nodes=2 ** 5)\n",
    "model.fit(train_x, train_y)                       # 訓練決策樹模型\n",
    "\n",
    "pred_y = model.predict(train_x)                   # 確認模型是否訓練成功\n",
    "acc = accuracy_score(train_y, pred_y)             # 計算準確度\n",
    "\n",
    "print('accuracy: {}'.format(acc))                 # 輸出準確度"
   ]
  },
  {
   "cell_type": "code",
   "execution_count": 22,
   "metadata": {},
   "outputs": [
    {
     "name": "stdout",
     "output_type": "stream",
     "text": [
      "average train accuracy: 0.7699792960662526\n",
      "    min train accuracy: 0.7246376811594203\n",
      "    max train accuracy: 0.8\n",
      "average valid accuracy: 0.5281045751633987\n",
      "    min valid accuracy: 0.47058823529411764\n",
      "    max valid accuracy: 0.5555555555555556\n",
      "accuracy: 0.7241379310344828\n"
     ]
    }
   ],
   "source": [
    "## 模型訓練 ensemble\n",
    "\n",
    "from sklearn import ensemble\n",
    "\n",
    "kf = KFold(n_splits=5,                                # 設定 K 值\n",
    "           random_state=1012,\n",
    "           shuffle=True)\n",
    "kf.get_n_splits(train_x)                              # 給予資料範圍\n",
    "\n",
    "train_acc_list = []                                   # 儲存每次訓練模型的準確度\n",
    "valid_acc_list = []                                   # 儲存每次驗證模型的準確度\n",
    "\n",
    "for train_index, valid_index in kf.split(train_x):    # 每個迴圈都會產生不同部份的資料\n",
    "    train_x_split = train_x.iloc[train_index]         # 產生訓練資料\n",
    "    train_y_split = train_y.iloc[train_index]         # 產生訓練資料標籤\n",
    "    valid_x_split = train_x.iloc[valid_index]         # 產生驗證資料\n",
    "    valid_y_split = train_y.iloc[valid_index]         # 產生驗證資料標籤\n",
    "    \n",
    "    model = ensemble.AdaBoostClassifier(random_state=1012,n_estimators = 10)\n",
    "    \n",
    "    model.fit(train_x_split, train_y_split)           # 訓練決策樹模型\n",
    "    \n",
    "    train_pred_y = model.predict(train_x_split)       # 確認模型是否訓練成功\n",
    "    train_acc = accuracy_score(train_y_split,         # 計算訓練資料準確度\n",
    "                               train_pred_y)\n",
    "    valid_pred_y = model.predict(valid_x_split)       # 驗證模型是否訓練成功\n",
    "    valid_acc = accuracy_score(valid_y_split,         # 計算驗證資料準確度\n",
    "                               valid_pred_y)\n",
    "    \n",
    "    train_acc_list.append(train_acc)\n",
    "    valid_acc_list.append(valid_acc)\n",
    "\n",
    "print((\n",
    "    'average train accuracy: {}\\n' +\n",
    "    '    min train accuracy: {}\\n' +\n",
    "    '    max train accuracy: {}\\n' +\n",
    "    'average valid accuracy: {}\\n' +\n",
    "    '    min valid accuracy: {}\\n' +\n",
    "    '    max valid accuracy: {}').format(\n",
    "    np.mean(train_acc_list),                          # 輸出平均訓練準確度\n",
    "    np.min(train_acc_list),                           # 輸出最低訓練準確度\n",
    "    np.max(train_acc_list),                           # 輸出最高訓練準確度\n",
    "    np.mean(valid_acc_list),                          # 輸出平均驗證準確度\n",
    "    np.min(valid_acc_list),                           # 輸出最低驗證準確度\n",
    "    np.max(valid_acc_list)                            # 輸出最高驗證準確度\n",
    "))\n",
    "model = ensemble.AdaBoostClassifier(random_state=1012,n_estimators = 10)\n",
    "model.fit(train_x, train_y)                       \n",
    "\n",
    "pred_y = model.predict(train_x)                   # 確認模型是否訓練成功\n",
    "acc = accuracy_score(train_y, pred_y)             # 計算準確度\n",
    "\n",
    "print('accuracy: {}'.format(acc))                 # 輸出準確度"
   ]
  }
 ],
 "metadata": {
  "kernelspec": {
   "display_name": "Python 3",
   "language": "python",
   "name": "python3"
  },
  "language_info": {
   "codemirror_mode": {
    "name": "ipython",
    "version": 3
   },
   "file_extension": ".py",
   "mimetype": "text/x-python",
   "name": "python",
   "nbconvert_exporter": "python",
   "pygments_lexer": "ipython3",
   "version": "3.7.3"
  }
 },
 "nbformat": 4,
 "nbformat_minor": 4
}
